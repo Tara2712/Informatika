{
  "nbformat": 4,
  "nbformat_minor": 0,
  "metadata": {
    "colab": {
      "provenance": [],
      "authorship_tag": "ABX9TyM2qOvBvaNNJUS8VDb+30Vt",
      "include_colab_link": true
    },
    "kernelspec": {
      "name": "python3",
      "display_name": "Python 3"
    },
    "language_info": {
      "name": "python"
    }
  },
  "cells": [
    {
      "cell_type": "markdown",
      "metadata": {
        "id": "view-in-github",
        "colab_type": "text"
      },
      "source": [
        "<a href=\"https://colab.research.google.com/github/Tara2712/Informatika/blob/main/Procesiranje_podatkov/dokon%C4%8Dna_predpriprava_podatkov.ipynb\" target=\"_parent\"><img src=\"https://colab.research.google.com/assets/colab-badge.svg\" alt=\"Open In Colab\"/></a>"
      ]
    },
    {
      "cell_type": "code",
      "execution_count": 194,
      "metadata": {
        "id": "MWrN_zH_yL94"
      },
      "outputs": [],
      "source": [
        "import pandas as pd"
      ]
    },
    {
      "cell_type": "code",
      "source": [
        "df = pd.read_csv('opis_cleaned.csv', index_col='SR')"
      ],
      "metadata": {
        "id": "tVSN6WCRyVdb"
      },
      "execution_count": 195,
      "outputs": []
    },
    {
      "cell_type": "code",
      "source": [
        "df.shape"
      ],
      "metadata": {
        "colab": {
          "base_uri": "https://localhost:8080/"
        },
        "id": "RhjKkMy35kyj",
        "outputId": "e349300a-b800-413c-e557-07e108f1824d"
      },
      "execution_count": 196,
      "outputs": [
        {
          "output_type": "execute_result",
          "data": {
            "text/plain": [
              "(28353, 6)"
            ]
          },
          "metadata": {},
          "execution_count": 196
        }
      ]
    },
    {
      "cell_type": "code",
      "source": [
        "# df.head()"
      ],
      "metadata": {
        "id": "DcrAKJWMyaU-"
      },
      "execution_count": 197,
      "outputs": []
    },
    {
      "cell_type": "code",
      "source": [
        "df.isna().sum()"
      ],
      "metadata": {
        "colab": {
          "base_uri": "https://localhost:8080/",
          "height": 269
        },
        "id": "oikZUOymyprX",
        "outputId": "4c636fc8-e981-4674-f498-bae754a5dc9f"
      },
      "execution_count": 198,
      "outputs": [
        {
          "output_type": "execute_result",
          "data": {
            "text/plain": [
              "NAZIV_SR                 0\n",
              "DATUM_NASTANKA_SR        0\n",
              "STATUS                   0\n",
              "WORKLOGID              900\n",
              "OPIS                  2499\n",
              "DOLGI_OPIS_X         10210\n",
              "dtype: int64"
            ],
            "text/html": [
              "<div>\n",
              "<style scoped>\n",
              "    .dataframe tbody tr th:only-of-type {\n",
              "        vertical-align: middle;\n",
              "    }\n",
              "\n",
              "    .dataframe tbody tr th {\n",
              "        vertical-align: top;\n",
              "    }\n",
              "\n",
              "    .dataframe thead th {\n",
              "        text-align: right;\n",
              "    }\n",
              "</style>\n",
              "<table border=\"1\" class=\"dataframe\">\n",
              "  <thead>\n",
              "    <tr style=\"text-align: right;\">\n",
              "      <th></th>\n",
              "      <th>0</th>\n",
              "    </tr>\n",
              "  </thead>\n",
              "  <tbody>\n",
              "    <tr>\n",
              "      <th>NAZIV_SR</th>\n",
              "      <td>0</td>\n",
              "    </tr>\n",
              "    <tr>\n",
              "      <th>DATUM_NASTANKA_SR</th>\n",
              "      <td>0</td>\n",
              "    </tr>\n",
              "    <tr>\n",
              "      <th>STATUS</th>\n",
              "      <td>0</td>\n",
              "    </tr>\n",
              "    <tr>\n",
              "      <th>WORKLOGID</th>\n",
              "      <td>900</td>\n",
              "    </tr>\n",
              "    <tr>\n",
              "      <th>OPIS</th>\n",
              "      <td>2499</td>\n",
              "    </tr>\n",
              "    <tr>\n",
              "      <th>DOLGI_OPIS_X</th>\n",
              "      <td>10210</td>\n",
              "    </tr>\n",
              "  </tbody>\n",
              "</table>\n",
              "</div><br><label><b>dtype:</b> int64</label>"
            ]
          },
          "metadata": {},
          "execution_count": 198
        }
      ]
    },
    {
      "cell_type": "code",
      "source": [
        "def clean_and_null(text):\n",
        "    if not isinstance(text, str):\n",
        "        return np.nan\n",
        "    cleaned = re.sub(r'img\\s+[^>]*?src=\"data:image[^\"]+\"', '', text, flags=re.IGNORECASE).strip()\n",
        "    return cleaned if cleaned else np.nan\n",
        "\n",
        "df[\"DOLGI_OPIS_X\"] = df[\"DOLGI_OPIS_X\"].apply(clean_and_null)\n",
        "# df.iloc[87:91]"
      ],
      "metadata": {
        "id": "vyxbHMSOfs5p"
      },
      "execution_count": 199,
      "outputs": []
    },
    {
      "cell_type": "code",
      "source": [
        "df.isna().sum()"
      ],
      "metadata": {
        "colab": {
          "base_uri": "https://localhost:8080/",
          "height": 269
        },
        "id": "Yb0-M07Zfv3a",
        "outputId": "2a8d6582-38cd-47d7-eb6c-ae2881d171e1"
      },
      "execution_count": 200,
      "outputs": [
        {
          "output_type": "execute_result",
          "data": {
            "text/plain": [
              "NAZIV_SR                 0\n",
              "DATUM_NASTANKA_SR        0\n",
              "STATUS                   0\n",
              "WORKLOGID              900\n",
              "OPIS                  2499\n",
              "DOLGI_OPIS_X         10281\n",
              "dtype: int64"
            ],
            "text/html": [
              "<div>\n",
              "<style scoped>\n",
              "    .dataframe tbody tr th:only-of-type {\n",
              "        vertical-align: middle;\n",
              "    }\n",
              "\n",
              "    .dataframe tbody tr th {\n",
              "        vertical-align: top;\n",
              "    }\n",
              "\n",
              "    .dataframe thead th {\n",
              "        text-align: right;\n",
              "    }\n",
              "</style>\n",
              "<table border=\"1\" class=\"dataframe\">\n",
              "  <thead>\n",
              "    <tr style=\"text-align: right;\">\n",
              "      <th></th>\n",
              "      <th>0</th>\n",
              "    </tr>\n",
              "  </thead>\n",
              "  <tbody>\n",
              "    <tr>\n",
              "      <th>NAZIV_SR</th>\n",
              "      <td>0</td>\n",
              "    </tr>\n",
              "    <tr>\n",
              "      <th>DATUM_NASTANKA_SR</th>\n",
              "      <td>0</td>\n",
              "    </tr>\n",
              "    <tr>\n",
              "      <th>STATUS</th>\n",
              "      <td>0</td>\n",
              "    </tr>\n",
              "    <tr>\n",
              "      <th>WORKLOGID</th>\n",
              "      <td>900</td>\n",
              "    </tr>\n",
              "    <tr>\n",
              "      <th>OPIS</th>\n",
              "      <td>2499</td>\n",
              "    </tr>\n",
              "    <tr>\n",
              "      <th>DOLGI_OPIS_X</th>\n",
              "      <td>10281</td>\n",
              "    </tr>\n",
              "  </tbody>\n",
              "</table>\n",
              "</div><br><label><b>dtype:</b> int64</label>"
            ]
          },
          "metadata": {},
          "execution_count": 200
        }
      ]
    },
    {
      "cell_type": "code",
      "source": [
        "stolpci_za_preverit = [\"OPIS\", \"DOLGI_OPIS_X\"]\n",
        "\n",
        "num_both_null = df[(df['OPIS'].isna()) & (df['DOLGI_OPIS_X'].isna())].shape[0] #& (df['WORKLOGID'].isna())\n",
        "print(f\"Number of rows where both 'OPIS' and 'DOLGI_OPIS_X' are null: {num_both_null}\")"
      ],
      "metadata": {
        "colab": {
          "base_uri": "https://localhost:8080/"
        },
        "id": "VUnZj2sDzX8f",
        "outputId": "d7bb4479-0992-4217-d297-53cf5562b283"
      },
      "execution_count": 201,
      "outputs": [
        {
          "output_type": "stream",
          "name": "stdout",
          "text": [
            "Number of rows where both 'OPIS' and 'DOLGI_OPIS_X' are null: 1297\n"
          ]
        }
      ]
    },
    {
      "cell_type": "code",
      "source": [
        "df_pociscen = df.dropna(subset=stolpci_za_preverit, how=\"all\")"
      ],
      "metadata": {
        "id": "5b52-sZAzbOg"
      },
      "execution_count": 202,
      "outputs": []
    },
    {
      "cell_type": "code",
      "source": [
        "df_pociscen.isna().sum()"
      ],
      "metadata": {
        "colab": {
          "base_uri": "https://localhost:8080/",
          "height": 269
        },
        "id": "fmF_2CrnzlIG",
        "outputId": "57bb49d2-6004-4a63-e8b0-b9c14b7655e3"
      },
      "execution_count": 203,
      "outputs": [
        {
          "output_type": "execute_result",
          "data": {
            "text/plain": [
              "NAZIV_SR                0\n",
              "DATUM_NASTANKA_SR       0\n",
              "STATUS                  0\n",
              "WORKLOGID               0\n",
              "OPIS                 1202\n",
              "DOLGI_OPIS_X         8984\n",
              "dtype: int64"
            ],
            "text/html": [
              "<div>\n",
              "<style scoped>\n",
              "    .dataframe tbody tr th:only-of-type {\n",
              "        vertical-align: middle;\n",
              "    }\n",
              "\n",
              "    .dataframe tbody tr th {\n",
              "        vertical-align: top;\n",
              "    }\n",
              "\n",
              "    .dataframe thead th {\n",
              "        text-align: right;\n",
              "    }\n",
              "</style>\n",
              "<table border=\"1\" class=\"dataframe\">\n",
              "  <thead>\n",
              "    <tr style=\"text-align: right;\">\n",
              "      <th></th>\n",
              "      <th>0</th>\n",
              "    </tr>\n",
              "  </thead>\n",
              "  <tbody>\n",
              "    <tr>\n",
              "      <th>NAZIV_SR</th>\n",
              "      <td>0</td>\n",
              "    </tr>\n",
              "    <tr>\n",
              "      <th>DATUM_NASTANKA_SR</th>\n",
              "      <td>0</td>\n",
              "    </tr>\n",
              "    <tr>\n",
              "      <th>STATUS</th>\n",
              "      <td>0</td>\n",
              "    </tr>\n",
              "    <tr>\n",
              "      <th>WORKLOGID</th>\n",
              "      <td>0</td>\n",
              "    </tr>\n",
              "    <tr>\n",
              "      <th>OPIS</th>\n",
              "      <td>1202</td>\n",
              "    </tr>\n",
              "    <tr>\n",
              "      <th>DOLGI_OPIS_X</th>\n",
              "      <td>8984</td>\n",
              "    </tr>\n",
              "  </tbody>\n",
              "</table>\n",
              "</div><br><label><b>dtype:</b> int64</label>"
            ]
          },
          "metadata": {},
          "execution_count": 203
        }
      ]
    },
    {
      "cell_type": "code",
      "source": [
        "def drop_empty_resitev(df):\n",
        "    pogoj = ((df[\"OPIS\"] == \"Rešitev\") | (df[\"OPIS\"] == \"Potrjujem rešitev\") | (df[\"OPIS\"] == \"Zavračam rešitev\")) & (df[\"DOLGI_OPIS_X\"].isnull() | (df[\"DOLGI_OPIS_X\"].str.strip() == \"\"))\n",
        "    df_cleaned = df[~pogoj].copy()  # ~ znegira pogoj\n",
        "    return df_cleaned"
      ],
      "metadata": {
        "id": "ux0Z-iiN0W9k"
      },
      "execution_count": 204,
      "outputs": []
    },
    {
      "cell_type": "code",
      "source": [
        "df_pociscen = drop_empty_resitev(df_pociscen)"
      ],
      "metadata": {
        "id": "_CwsGUu_0eNk"
      },
      "execution_count": 205,
      "outputs": []
    },
    {
      "cell_type": "code",
      "source": [
        "df_pociscen.isna().sum()"
      ],
      "metadata": {
        "colab": {
          "base_uri": "https://localhost:8080/",
          "height": 269
        },
        "id": "FOIbyjJv0wN7",
        "outputId": "7e4dcc1f-2629-485e-ce20-422be2e5a2e1"
      },
      "execution_count": 206,
      "outputs": [
        {
          "output_type": "execute_result",
          "data": {
            "text/plain": [
              "NAZIV_SR                0\n",
              "DATUM_NASTANKA_SR       0\n",
              "STATUS                  0\n",
              "WORKLOGID               0\n",
              "OPIS                 1202\n",
              "DOLGI_OPIS_X          518\n",
              "dtype: int64"
            ],
            "text/html": [
              "<div>\n",
              "<style scoped>\n",
              "    .dataframe tbody tr th:only-of-type {\n",
              "        vertical-align: middle;\n",
              "    }\n",
              "\n",
              "    .dataframe tbody tr th {\n",
              "        vertical-align: top;\n",
              "    }\n",
              "\n",
              "    .dataframe thead th {\n",
              "        text-align: right;\n",
              "    }\n",
              "</style>\n",
              "<table border=\"1\" class=\"dataframe\">\n",
              "  <thead>\n",
              "    <tr style=\"text-align: right;\">\n",
              "      <th></th>\n",
              "      <th>0</th>\n",
              "    </tr>\n",
              "  </thead>\n",
              "  <tbody>\n",
              "    <tr>\n",
              "      <th>NAZIV_SR</th>\n",
              "      <td>0</td>\n",
              "    </tr>\n",
              "    <tr>\n",
              "      <th>DATUM_NASTANKA_SR</th>\n",
              "      <td>0</td>\n",
              "    </tr>\n",
              "    <tr>\n",
              "      <th>STATUS</th>\n",
              "      <td>0</td>\n",
              "    </tr>\n",
              "    <tr>\n",
              "      <th>WORKLOGID</th>\n",
              "      <td>0</td>\n",
              "    </tr>\n",
              "    <tr>\n",
              "      <th>OPIS</th>\n",
              "      <td>1202</td>\n",
              "    </tr>\n",
              "    <tr>\n",
              "      <th>DOLGI_OPIS_X</th>\n",
              "      <td>518</td>\n",
              "    </tr>\n",
              "  </tbody>\n",
              "</table>\n",
              "</div><br><label><b>dtype:</b> int64</label>"
            ]
          },
          "metadata": {},
          "execution_count": 206
        }
      ]
    },
    {
      "cell_type": "code",
      "source": [
        "df_pociscen['OPIS'].value_counts()"
      ],
      "metadata": {
        "colab": {
          "base_uri": "https://localhost:8080/",
          "height": 484
        },
        "id": "zEnTwyp-1Kl0",
        "outputId": "24a1f629-19fa-4cf0-a32a-5c461a9dd245"
      },
      "execution_count": 207,
      "outputs": [
        {
          "output_type": "execute_result",
          "data": {
            "text/plain": [
              "OPIS\n",
              "Rešitev                              10907\n",
              "Komentar IN                            279\n",
              "Komentar INF                           252\n",
              "Odgovor                                217\n",
              "Zahtevek sprejet                       172\n",
              "                                     ...  \n",
              "Izpisek s tem datumom že obstaja         1\n",
              "Zapis pri fakturi v delovnem toku        1\n",
              "Odgovor informatika                      1\n",
              "sprejeto v reševanje                     1\n",
              "Podvojene vrednosti zaradi NF            1\n",
              "Name: count, Length: 3055, dtype: int64"
            ],
            "text/html": [
              "<div>\n",
              "<style scoped>\n",
              "    .dataframe tbody tr th:only-of-type {\n",
              "        vertical-align: middle;\n",
              "    }\n",
              "\n",
              "    .dataframe tbody tr th {\n",
              "        vertical-align: top;\n",
              "    }\n",
              "\n",
              "    .dataframe thead th {\n",
              "        text-align: right;\n",
              "    }\n",
              "</style>\n",
              "<table border=\"1\" class=\"dataframe\">\n",
              "  <thead>\n",
              "    <tr style=\"text-align: right;\">\n",
              "      <th></th>\n",
              "      <th>count</th>\n",
              "    </tr>\n",
              "    <tr>\n",
              "      <th>OPIS</th>\n",
              "      <th></th>\n",
              "    </tr>\n",
              "  </thead>\n",
              "  <tbody>\n",
              "    <tr>\n",
              "      <th>Rešitev</th>\n",
              "      <td>10907</td>\n",
              "    </tr>\n",
              "    <tr>\n",
              "      <th>Komentar IN</th>\n",
              "      <td>279</td>\n",
              "    </tr>\n",
              "    <tr>\n",
              "      <th>Komentar INF</th>\n",
              "      <td>252</td>\n",
              "    </tr>\n",
              "    <tr>\n",
              "      <th>Odgovor</th>\n",
              "      <td>217</td>\n",
              "    </tr>\n",
              "    <tr>\n",
              "      <th>Zahtevek sprejet</th>\n",
              "      <td>172</td>\n",
              "    </tr>\n",
              "    <tr>\n",
              "      <th>...</th>\n",
              "      <td>...</td>\n",
              "    </tr>\n",
              "    <tr>\n",
              "      <th>Izpisek s tem datumom že obstaja</th>\n",
              "      <td>1</td>\n",
              "    </tr>\n",
              "    <tr>\n",
              "      <th>Zapis pri fakturi v delovnem toku</th>\n",
              "      <td>1</td>\n",
              "    </tr>\n",
              "    <tr>\n",
              "      <th>Odgovor informatika</th>\n",
              "      <td>1</td>\n",
              "    </tr>\n",
              "    <tr>\n",
              "      <th>sprejeto v reševanje</th>\n",
              "      <td>1</td>\n",
              "    </tr>\n",
              "    <tr>\n",
              "      <th>Podvojene vrednosti zaradi NF</th>\n",
              "      <td>1</td>\n",
              "    </tr>\n",
              "  </tbody>\n",
              "</table>\n",
              "<p>3055 rows × 1 columns</p>\n",
              "</div><br><label><b>dtype:</b> int64</label>"
            ]
          },
          "metadata": {},
          "execution_count": 207
        }
      ]
    },
    {
      "cell_type": "code",
      "source": [
        "# df_pociscen.head()"
      ],
      "metadata": {
        "id": "WoQkuUAz1nNQ"
      },
      "execution_count": 208,
      "outputs": []
    },
    {
      "cell_type": "code",
      "source": [
        "def drop_empty_zavracam_resitev(df):\n",
        "    pogoj = ((df[\"OPIS\"] == \"Zavračam rešitev\") | (df[\"OPIS\"] == \"Zapiramo zahtevek\")| (df[\"OPIS\"] == \"Zahtevek zapiramo\") | (df[\"OPIS\"] == \"Urejeno\")) & (df[\"DOLGI_OPIS_X\"].isnull() | (df[\"DOLGI_OPIS_X\"].str.strip() == \"\") )\n",
        "    df_cleaned = df[~pogoj].copy()\n",
        "    return df_cleaned"
      ],
      "metadata": {
        "id": "LrBPuQA32hhe"
      },
      "execution_count": 209,
      "outputs": []
    },
    {
      "cell_type": "code",
      "source": [
        "df_pociscen = drop_empty_zavracam_resitev(df_pociscen)"
      ],
      "metadata": {
        "id": "TNeTf1-226nc"
      },
      "execution_count": 210,
      "outputs": []
    },
    {
      "cell_type": "code",
      "source": [
        "df_pociscen.isna().sum()"
      ],
      "metadata": {
        "colab": {
          "base_uri": "https://localhost:8080/",
          "height": 269
        },
        "id": "v8qeQjPG3A5k",
        "outputId": "06b3bd7a-2d96-44ba-a1f9-2e81e4a5c7e0"
      },
      "execution_count": 211,
      "outputs": [
        {
          "output_type": "execute_result",
          "data": {
            "text/plain": [
              "NAZIV_SR                0\n",
              "DATUM_NASTANKA_SR       0\n",
              "STATUS                  0\n",
              "WORKLOGID               0\n",
              "OPIS                 1202\n",
              "DOLGI_OPIS_X          509\n",
              "dtype: int64"
            ],
            "text/html": [
              "<div>\n",
              "<style scoped>\n",
              "    .dataframe tbody tr th:only-of-type {\n",
              "        vertical-align: middle;\n",
              "    }\n",
              "\n",
              "    .dataframe tbody tr th {\n",
              "        vertical-align: top;\n",
              "    }\n",
              "\n",
              "    .dataframe thead th {\n",
              "        text-align: right;\n",
              "    }\n",
              "</style>\n",
              "<table border=\"1\" class=\"dataframe\">\n",
              "  <thead>\n",
              "    <tr style=\"text-align: right;\">\n",
              "      <th></th>\n",
              "      <th>0</th>\n",
              "    </tr>\n",
              "  </thead>\n",
              "  <tbody>\n",
              "    <tr>\n",
              "      <th>NAZIV_SR</th>\n",
              "      <td>0</td>\n",
              "    </tr>\n",
              "    <tr>\n",
              "      <th>DATUM_NASTANKA_SR</th>\n",
              "      <td>0</td>\n",
              "    </tr>\n",
              "    <tr>\n",
              "      <th>STATUS</th>\n",
              "      <td>0</td>\n",
              "    </tr>\n",
              "    <tr>\n",
              "      <th>WORKLOGID</th>\n",
              "      <td>0</td>\n",
              "    </tr>\n",
              "    <tr>\n",
              "      <th>OPIS</th>\n",
              "      <td>1202</td>\n",
              "    </tr>\n",
              "    <tr>\n",
              "      <th>DOLGI_OPIS_X</th>\n",
              "      <td>509</td>\n",
              "    </tr>\n",
              "  </tbody>\n",
              "</table>\n",
              "</div><br><label><b>dtype:</b> int64</label>"
            ]
          },
          "metadata": {},
          "execution_count": 211
        }
      ]
    },
    {
      "cell_type": "code",
      "source": [
        "df_pociscen.shape"
      ],
      "metadata": {
        "colab": {
          "base_uri": "https://localhost:8080/"
        },
        "id": "E_KW9Tzt44xj",
        "outputId": "8137276f-7b57-481c-a657-a212b458acd6"
      },
      "execution_count": 212,
      "outputs": [
        {
          "output_type": "execute_result",
          "data": {
            "text/plain": [
              "(18581, 6)"
            ]
          },
          "metadata": {},
          "execution_count": 212
        }
      ]
    },
    {
      "cell_type": "code",
      "source": [
        "df_pociscen[\"OPIS\"].value_counts()"
      ],
      "metadata": {
        "colab": {
          "base_uri": "https://localhost:8080/",
          "height": 484
        },
        "id": "Mvxu5nAvkmvv",
        "outputId": "8d53b620-44dd-4c30-d72f-3b2294c410e1"
      },
      "execution_count": 213,
      "outputs": [
        {
          "output_type": "execute_result",
          "data": {
            "text/plain": [
              "OPIS\n",
              "Rešitev                                    10907\n",
              "Komentar IN                                  279\n",
              "Komentar INF                                 252\n",
              "Odgovor                                      217\n",
              "Zahtevek sprejet                             172\n",
              "                                           ...  \n",
              "Zapis pri fakturi v delovnem toku              1\n",
              "Odgovor informatika                            1\n",
              "sprejeto v reševanje                           1\n",
              "Izpad DN.jev posledica delovanja D365FO        1\n",
              "Sporočilo Informatika - 30.05.2024             1\n",
              "Name: count, Length: 3054, dtype: int64"
            ],
            "text/html": [
              "<div>\n",
              "<style scoped>\n",
              "    .dataframe tbody tr th:only-of-type {\n",
              "        vertical-align: middle;\n",
              "    }\n",
              "\n",
              "    .dataframe tbody tr th {\n",
              "        vertical-align: top;\n",
              "    }\n",
              "\n",
              "    .dataframe thead th {\n",
              "        text-align: right;\n",
              "    }\n",
              "</style>\n",
              "<table border=\"1\" class=\"dataframe\">\n",
              "  <thead>\n",
              "    <tr style=\"text-align: right;\">\n",
              "      <th></th>\n",
              "      <th>count</th>\n",
              "    </tr>\n",
              "    <tr>\n",
              "      <th>OPIS</th>\n",
              "      <th></th>\n",
              "    </tr>\n",
              "  </thead>\n",
              "  <tbody>\n",
              "    <tr>\n",
              "      <th>Rešitev</th>\n",
              "      <td>10907</td>\n",
              "    </tr>\n",
              "    <tr>\n",
              "      <th>Komentar IN</th>\n",
              "      <td>279</td>\n",
              "    </tr>\n",
              "    <tr>\n",
              "      <th>Komentar INF</th>\n",
              "      <td>252</td>\n",
              "    </tr>\n",
              "    <tr>\n",
              "      <th>Odgovor</th>\n",
              "      <td>217</td>\n",
              "    </tr>\n",
              "    <tr>\n",
              "      <th>Zahtevek sprejet</th>\n",
              "      <td>172</td>\n",
              "    </tr>\n",
              "    <tr>\n",
              "      <th>...</th>\n",
              "      <td>...</td>\n",
              "    </tr>\n",
              "    <tr>\n",
              "      <th>Zapis pri fakturi v delovnem toku</th>\n",
              "      <td>1</td>\n",
              "    </tr>\n",
              "    <tr>\n",
              "      <th>Odgovor informatika</th>\n",
              "      <td>1</td>\n",
              "    </tr>\n",
              "    <tr>\n",
              "      <th>sprejeto v reševanje</th>\n",
              "      <td>1</td>\n",
              "    </tr>\n",
              "    <tr>\n",
              "      <th>Izpad DN.jev posledica delovanja D365FO</th>\n",
              "      <td>1</td>\n",
              "    </tr>\n",
              "    <tr>\n",
              "      <th>Sporočilo Informatika - 30.05.2024</th>\n",
              "      <td>1</td>\n",
              "    </tr>\n",
              "  </tbody>\n",
              "</table>\n",
              "<p>3054 rows × 1 columns</p>\n",
              "</div><br><label><b>dtype:</b> int64</label>"
            ]
          },
          "metadata": {},
          "execution_count": 213
        }
      ]
    },
    {
      "cell_type": "code",
      "source": [
        "# df_pociscen.to_csv('2proba.csv', index=True)"
      ],
      "metadata": {
        "id": "_hxiyGWyQDPX"
      },
      "execution_count": 214,
      "outputs": []
    },
    {
      "cell_type": "code",
      "source": [
        "# df_pociscen = df_pociscen['DOLGI_OPIS_X'].dropna()"
      ],
      "metadata": {
        "id": "V7IvqDy6gMYt"
      },
      "execution_count": 215,
      "outputs": []
    },
    {
      "cell_type": "code",
      "source": [
        "df_pociscen.isna().sum()"
      ],
      "metadata": {
        "colab": {
          "base_uri": "https://localhost:8080/",
          "height": 269
        },
        "id": "MdFSbcqbgSpp",
        "outputId": "d04d7c9b-7efe-4ae1-8c5a-cdd9e543fce6"
      },
      "execution_count": 216,
      "outputs": [
        {
          "output_type": "execute_result",
          "data": {
            "text/plain": [
              "NAZIV_SR                0\n",
              "DATUM_NASTANKA_SR       0\n",
              "STATUS                  0\n",
              "WORKLOGID               0\n",
              "OPIS                 1202\n",
              "DOLGI_OPIS_X          509\n",
              "dtype: int64"
            ],
            "text/html": [
              "<div>\n",
              "<style scoped>\n",
              "    .dataframe tbody tr th:only-of-type {\n",
              "        vertical-align: middle;\n",
              "    }\n",
              "\n",
              "    .dataframe tbody tr th {\n",
              "        vertical-align: top;\n",
              "    }\n",
              "\n",
              "    .dataframe thead th {\n",
              "        text-align: right;\n",
              "    }\n",
              "</style>\n",
              "<table border=\"1\" class=\"dataframe\">\n",
              "  <thead>\n",
              "    <tr style=\"text-align: right;\">\n",
              "      <th></th>\n",
              "      <th>0</th>\n",
              "    </tr>\n",
              "  </thead>\n",
              "  <tbody>\n",
              "    <tr>\n",
              "      <th>NAZIV_SR</th>\n",
              "      <td>0</td>\n",
              "    </tr>\n",
              "    <tr>\n",
              "      <th>DATUM_NASTANKA_SR</th>\n",
              "      <td>0</td>\n",
              "    </tr>\n",
              "    <tr>\n",
              "      <th>STATUS</th>\n",
              "      <td>0</td>\n",
              "    </tr>\n",
              "    <tr>\n",
              "      <th>WORKLOGID</th>\n",
              "      <td>0</td>\n",
              "    </tr>\n",
              "    <tr>\n",
              "      <th>OPIS</th>\n",
              "      <td>1202</td>\n",
              "    </tr>\n",
              "    <tr>\n",
              "      <th>DOLGI_OPIS_X</th>\n",
              "      <td>509</td>\n",
              "    </tr>\n",
              "  </tbody>\n",
              "</table>\n",
              "</div><br><label><b>dtype:</b> int64</label>"
            ]
          },
          "metadata": {},
          "execution_count": 216
        }
      ]
    },
    {
      "cell_type": "code",
      "source": [
        "df_pociscen = df_pociscen.dropna(subset=['DOLGI_OPIS_X'])\n",
        "df_pociscen.isna().sum()"
      ],
      "metadata": {
        "colab": {
          "base_uri": "https://localhost:8080/",
          "height": 269
        },
        "id": "zhckBgwGgisk",
        "outputId": "082c9408-bdbc-4d92-c423-3717b68c33ec"
      },
      "execution_count": 217,
      "outputs": [
        {
          "output_type": "execute_result",
          "data": {
            "text/plain": [
              "NAZIV_SR                0\n",
              "DATUM_NASTANKA_SR       0\n",
              "STATUS                  0\n",
              "WORKLOGID               0\n",
              "OPIS                 1202\n",
              "DOLGI_OPIS_X            0\n",
              "dtype: int64"
            ],
            "text/html": [
              "<div>\n",
              "<style scoped>\n",
              "    .dataframe tbody tr th:only-of-type {\n",
              "        vertical-align: middle;\n",
              "    }\n",
              "\n",
              "    .dataframe tbody tr th {\n",
              "        vertical-align: top;\n",
              "    }\n",
              "\n",
              "    .dataframe thead th {\n",
              "        text-align: right;\n",
              "    }\n",
              "</style>\n",
              "<table border=\"1\" class=\"dataframe\">\n",
              "  <thead>\n",
              "    <tr style=\"text-align: right;\">\n",
              "      <th></th>\n",
              "      <th>0</th>\n",
              "    </tr>\n",
              "  </thead>\n",
              "  <tbody>\n",
              "    <tr>\n",
              "      <th>NAZIV_SR</th>\n",
              "      <td>0</td>\n",
              "    </tr>\n",
              "    <tr>\n",
              "      <th>DATUM_NASTANKA_SR</th>\n",
              "      <td>0</td>\n",
              "    </tr>\n",
              "    <tr>\n",
              "      <th>STATUS</th>\n",
              "      <td>0</td>\n",
              "    </tr>\n",
              "    <tr>\n",
              "      <th>WORKLOGID</th>\n",
              "      <td>0</td>\n",
              "    </tr>\n",
              "    <tr>\n",
              "      <th>OPIS</th>\n",
              "      <td>1202</td>\n",
              "    </tr>\n",
              "    <tr>\n",
              "      <th>DOLGI_OPIS_X</th>\n",
              "      <td>0</td>\n",
              "    </tr>\n",
              "  </tbody>\n",
              "</table>\n",
              "</div><br><label><b>dtype:</b> int64</label>"
            ]
          },
          "metadata": {},
          "execution_count": 217
        }
      ]
    },
    {
      "cell_type": "code",
      "source": [
        "df_pociscen.shape"
      ],
      "metadata": {
        "colab": {
          "base_uri": "https://localhost:8080/"
        },
        "id": "mxzdgxebgrFU",
        "outputId": "52a44384-c8b3-497d-dd72-fb5ceb73dd67"
      },
      "execution_count": 218,
      "outputs": [
        {
          "output_type": "execute_result",
          "data": {
            "text/plain": [
              "(18072, 6)"
            ]
          },
          "metadata": {},
          "execution_count": 218
        }
      ]
    },
    {
      "cell_type": "code",
      "source": [
        "from sklearn.impute import SimpleImputer\n",
        "import numpy as np"
      ],
      "metadata": {
        "id": "E_gdeq-0hzfg"
      },
      "execution_count": 219,
      "outputs": []
    },
    {
      "cell_type": "code",
      "source": [
        "imputer = SimpleImputer(missing_values=np.nan, strategy='most_frequent')\n",
        "\n",
        "df_pociscen[\"OPIS\"] = imputer.fit_transform(df_pociscen[[\"OPIS\"]]).ravel()"
      ],
      "metadata": {
        "colab": {
          "base_uri": "https://localhost:8080/"
        },
        "id": "N2ttBOZiighP",
        "outputId": "bf00cdf6-64d6-4138-a396-c3622ed4de23"
      },
      "execution_count": 220,
      "outputs": [
        {
          "output_type": "stream",
          "name": "stderr",
          "text": [
            "<ipython-input-220-1c1063f251bb>:3: SettingWithCopyWarning: \n",
            "A value is trying to be set on a copy of a slice from a DataFrame.\n",
            "Try using .loc[row_indexer,col_indexer] = value instead\n",
            "\n",
            "See the caveats in the documentation: https://pandas.pydata.org/pandas-docs/stable/user_guide/indexing.html#returning-a-view-versus-a-copy\n",
            "  df_pociscen[\"OPIS\"] = imputer.fit_transform(df_pociscen[[\"OPIS\"]]).ravel()\n"
          ]
        }
      ]
    },
    {
      "cell_type": "code",
      "source": [
        "df_pociscen.isna().sum()"
      ],
      "metadata": {
        "colab": {
          "base_uri": "https://localhost:8080/",
          "height": 269
        },
        "id": "Nzsjl5LAi3Ej",
        "outputId": "b9a52701-dbf2-47a8-f836-8b7f645724bd"
      },
      "execution_count": 221,
      "outputs": [
        {
          "output_type": "execute_result",
          "data": {
            "text/plain": [
              "NAZIV_SR             0\n",
              "DATUM_NASTANKA_SR    0\n",
              "STATUS               0\n",
              "WORKLOGID            0\n",
              "OPIS                 0\n",
              "DOLGI_OPIS_X         0\n",
              "dtype: int64"
            ],
            "text/html": [
              "<div>\n",
              "<style scoped>\n",
              "    .dataframe tbody tr th:only-of-type {\n",
              "        vertical-align: middle;\n",
              "    }\n",
              "\n",
              "    .dataframe tbody tr th {\n",
              "        vertical-align: top;\n",
              "    }\n",
              "\n",
              "    .dataframe thead th {\n",
              "        text-align: right;\n",
              "    }\n",
              "</style>\n",
              "<table border=\"1\" class=\"dataframe\">\n",
              "  <thead>\n",
              "    <tr style=\"text-align: right;\">\n",
              "      <th></th>\n",
              "      <th>0</th>\n",
              "    </tr>\n",
              "  </thead>\n",
              "  <tbody>\n",
              "    <tr>\n",
              "      <th>NAZIV_SR</th>\n",
              "      <td>0</td>\n",
              "    </tr>\n",
              "    <tr>\n",
              "      <th>DATUM_NASTANKA_SR</th>\n",
              "      <td>0</td>\n",
              "    </tr>\n",
              "    <tr>\n",
              "      <th>STATUS</th>\n",
              "      <td>0</td>\n",
              "    </tr>\n",
              "    <tr>\n",
              "      <th>WORKLOGID</th>\n",
              "      <td>0</td>\n",
              "    </tr>\n",
              "    <tr>\n",
              "      <th>OPIS</th>\n",
              "      <td>0</td>\n",
              "    </tr>\n",
              "    <tr>\n",
              "      <th>DOLGI_OPIS_X</th>\n",
              "      <td>0</td>\n",
              "    </tr>\n",
              "  </tbody>\n",
              "</table>\n",
              "</div><br><label><b>dtype:</b> int64</label>"
            ]
          },
          "metadata": {},
          "execution_count": 221
        }
      ]
    },
    {
      "cell_type": "code",
      "source": [
        "df_pociscen.shape"
      ],
      "metadata": {
        "colab": {
          "base_uri": "https://localhost:8080/"
        },
        "id": "Y17QjEh0i6a8",
        "outputId": "c31abdb5-1635-45a6-d78d-de97fd97f1a6"
      },
      "execution_count": 222,
      "outputs": [
        {
          "output_type": "execute_result",
          "data": {
            "text/plain": [
              "(18072, 6)"
            ]
          },
          "metadata": {},
          "execution_count": 222
        }
      ]
    },
    {
      "cell_type": "code",
      "source": [
        "df_pociscen.to_csv(\"df_nan.csv\", index=True)"
      ],
      "metadata": {
        "id": "Muc0dxWmi-r5"
      },
      "execution_count": 223,
      "outputs": []
    },
    {
      "cell_type": "code",
      "source": [
        "import re"
      ],
      "metadata": {
        "id": "ra7WKYptPa3P"
      },
      "execution_count": 224,
      "outputs": []
    },
    {
      "cell_type": "code",
      "source": [
        "# def remove_base64_images(text):\n",
        "#     # Remove 'img ... base64,...' style embedded images\n",
        "#     return re.sub(r'img[^\"]*src=\"data:image[^\"]+\"', '', text)\n",
        "\n",
        "# # Apply to the column\n",
        "# df_pociscen[\"DOLGI_OPIS_X\"] = df_pociscen[\"DOLGI_OPIS_X\"].fillna(\"\").apply(remove_base64_images)"
      ],
      "metadata": {
        "id": "3w7AtFJ_PYCT"
      },
      "execution_count": 225,
      "outputs": []
    },
    {
      "cell_type": "code",
      "source": [
        "df_pociscen.isna().sum()"
      ],
      "metadata": {
        "colab": {
          "base_uri": "https://localhost:8080/",
          "height": 269
        },
        "id": "qbuhNaKrPfrz",
        "outputId": "1a109f6b-323e-4b63-dcfb-71d4bbff0eb5"
      },
      "execution_count": 226,
      "outputs": [
        {
          "output_type": "execute_result",
          "data": {
            "text/plain": [
              "NAZIV_SR             0\n",
              "DATUM_NASTANKA_SR    0\n",
              "STATUS               0\n",
              "WORKLOGID            0\n",
              "OPIS                 0\n",
              "DOLGI_OPIS_X         0\n",
              "dtype: int64"
            ],
            "text/html": [
              "<div>\n",
              "<style scoped>\n",
              "    .dataframe tbody tr th:only-of-type {\n",
              "        vertical-align: middle;\n",
              "    }\n",
              "\n",
              "    .dataframe tbody tr th {\n",
              "        vertical-align: top;\n",
              "    }\n",
              "\n",
              "    .dataframe thead th {\n",
              "        text-align: right;\n",
              "    }\n",
              "</style>\n",
              "<table border=\"1\" class=\"dataframe\">\n",
              "  <thead>\n",
              "    <tr style=\"text-align: right;\">\n",
              "      <th></th>\n",
              "      <th>0</th>\n",
              "    </tr>\n",
              "  </thead>\n",
              "  <tbody>\n",
              "    <tr>\n",
              "      <th>NAZIV_SR</th>\n",
              "      <td>0</td>\n",
              "    </tr>\n",
              "    <tr>\n",
              "      <th>DATUM_NASTANKA_SR</th>\n",
              "      <td>0</td>\n",
              "    </tr>\n",
              "    <tr>\n",
              "      <th>STATUS</th>\n",
              "      <td>0</td>\n",
              "    </tr>\n",
              "    <tr>\n",
              "      <th>WORKLOGID</th>\n",
              "      <td>0</td>\n",
              "    </tr>\n",
              "    <tr>\n",
              "      <th>OPIS</th>\n",
              "      <td>0</td>\n",
              "    </tr>\n",
              "    <tr>\n",
              "      <th>DOLGI_OPIS_X</th>\n",
              "      <td>0</td>\n",
              "    </tr>\n",
              "  </tbody>\n",
              "</table>\n",
              "</div><br><label><b>dtype:</b> int64</label>"
            ]
          },
          "metadata": {},
          "execution_count": 226
        }
      ]
    },
    {
      "cell_type": "code",
      "source": [
        "# import re\n",
        "# import pandas as pd\n",
        "\n",
        "# def remove_base64_images(text):\n",
        "#     if not isinstance(text, str):\n",
        "#         return text\n",
        "\n",
        "#     return re.sub(r'img\\s+[^>]*?src=\"data:image[^\"]+\"', '', text, flags=re.IGNORECASE)\n",
        "\n",
        "# df_pociscen[\"DOLGI_OPIS_X\"] = df_pociscen[\"DOLGI_OPIS_X\"].fillna(\"\").apply(remove_base64_images)\n"
      ],
      "metadata": {
        "id": "kiZx7nBBQCng"
      },
      "execution_count": 227,
      "outputs": []
    },
    {
      "cell_type": "code",
      "source": [
        "# df_pociscen.head(89)"
      ],
      "metadata": {
        "id": "9EG4QRjEPtzD"
      },
      "execution_count": 228,
      "outputs": []
    },
    {
      "cell_type": "code",
      "source": [
        "# df_pociscen.isna().sum()"
      ],
      "metadata": {
        "id": "9AWcrh2_QI79"
      },
      "execution_count": 229,
      "outputs": []
    },
    {
      "cell_type": "code",
      "source": [
        "# def clean_and_nullify(text):\n",
        "#     if not isinstance(text, str):\n",
        "#         return np.nan\n",
        "\n",
        "#     cleaned = re.sub(r'img\\s+[^>]*?src=\"data:image[^\"]+\"', '', text, flags=re.IGNORECASE)\n",
        "\n",
        "#     cleaned = cleaned.strip()\n",
        "\n",
        "#     return cleaned if cleaned else np.nan\n",
        "\n",
        "\n",
        "# df_pociscen[\"DOLGI_OPIS_X\"] = df_pociscen[\"DOLGI_OPIS_X\"].apply(clean_and_nullify)"
      ],
      "metadata": {
        "id": "cqnNlVpeR4GZ"
      },
      "execution_count": 230,
      "outputs": []
    },
    {
      "cell_type": "code",
      "source": [
        "# df_pociscen.iloc[87:91]"
      ],
      "metadata": {
        "id": "hk8EgAHUR6i2"
      },
      "execution_count": 231,
      "outputs": []
    },
    {
      "cell_type": "code",
      "source": [
        "# import re\n",
        "# import numpy as np\n",
        "\n",
        "# def clean_and_nullify(text):\n",
        "#     if not isinstance(text, str):\n",
        "#         return np.nan\n",
        "\n",
        "#     cleaned = re.sub(\n",
        "#         r'img\\s+[^>]*?src=[\"\\']data:image[^\"\\']+[\"\\']',\n",
        "#         '',\n",
        "#         text,\n",
        "#         flags=re.IGNORECASE\n",
        "#     )\n",
        "\n",
        "\n",
        "#     cleaned = cleaned.strip()\n",
        "\n",
        "\n",
        "#     return cleaned if cleaned else np.nan\n",
        "\n",
        "\n",
        "# df_pociscen[\"DOLGI_OPIS_X\"] = df_pociscen[\"DOLGI_OPIS_X\"].apply(clean_and_nullify)\n"
      ],
      "metadata": {
        "id": "cnDxaAwBYQiU"
      },
      "execution_count": 232,
      "outputs": []
    },
    {
      "cell_type": "code",
      "source": [
        "df_pociscen.isna().sum()"
      ],
      "metadata": {
        "colab": {
          "base_uri": "https://localhost:8080/",
          "height": 269
        },
        "id": "mTj-jvXuZYjG",
        "outputId": "c3e5626a-07f7-44a3-833c-a1443100453e"
      },
      "execution_count": 233,
      "outputs": [
        {
          "output_type": "execute_result",
          "data": {
            "text/plain": [
              "NAZIV_SR             0\n",
              "DATUM_NASTANKA_SR    0\n",
              "STATUS               0\n",
              "WORKLOGID            0\n",
              "OPIS                 0\n",
              "DOLGI_OPIS_X         0\n",
              "dtype: int64"
            ],
            "text/html": [
              "<div>\n",
              "<style scoped>\n",
              "    .dataframe tbody tr th:only-of-type {\n",
              "        vertical-align: middle;\n",
              "    }\n",
              "\n",
              "    .dataframe tbody tr th {\n",
              "        vertical-align: top;\n",
              "    }\n",
              "\n",
              "    .dataframe thead th {\n",
              "        text-align: right;\n",
              "    }\n",
              "</style>\n",
              "<table border=\"1\" class=\"dataframe\">\n",
              "  <thead>\n",
              "    <tr style=\"text-align: right;\">\n",
              "      <th></th>\n",
              "      <th>0</th>\n",
              "    </tr>\n",
              "  </thead>\n",
              "  <tbody>\n",
              "    <tr>\n",
              "      <th>NAZIV_SR</th>\n",
              "      <td>0</td>\n",
              "    </tr>\n",
              "    <tr>\n",
              "      <th>DATUM_NASTANKA_SR</th>\n",
              "      <td>0</td>\n",
              "    </tr>\n",
              "    <tr>\n",
              "      <th>STATUS</th>\n",
              "      <td>0</td>\n",
              "    </tr>\n",
              "    <tr>\n",
              "      <th>WORKLOGID</th>\n",
              "      <td>0</td>\n",
              "    </tr>\n",
              "    <tr>\n",
              "      <th>OPIS</th>\n",
              "      <td>0</td>\n",
              "    </tr>\n",
              "    <tr>\n",
              "      <th>DOLGI_OPIS_X</th>\n",
              "      <td>0</td>\n",
              "    </tr>\n",
              "  </tbody>\n",
              "</table>\n",
              "</div><br><label><b>dtype:</b> int64</label>"
            ]
          },
          "metadata": {},
          "execution_count": 233
        }
      ]
    },
    {
      "cell_type": "code",
      "source": [
        "# import pandas as pd\n",
        "# import re\n",
        "\n",
        "# def clean_cell(text):\n",
        "#     if not isinstance(text, str):\n",
        "#         return text\n",
        "\n",
        "#     text = re.sub(r'<img[^>]+src=\"data:image[^\"]+\"[^>]*>', '', text)\n",
        "\n",
        "#     text = re.sub(r'<[^>]+>', '', text)\n",
        "\n",
        "#     text = re.sub(r'\\s+', ' ', text).strip()\n",
        "#     return text\n",
        "\n",
        "# df_pociscen = df_pociscen.applymap(clean_cell)\n"
      ],
      "metadata": {
        "id": "T5kezwg1ZvU2"
      },
      "execution_count": 234,
      "outputs": []
    },
    {
      "cell_type": "code",
      "source": [
        "df_pociscen.isna().sum()"
      ],
      "metadata": {
        "colab": {
          "base_uri": "https://localhost:8080/",
          "height": 269
        },
        "id": "0RJlpmhEZykU",
        "outputId": "5b08b7fb-2d63-46c3-98de-e533eed76537"
      },
      "execution_count": 235,
      "outputs": [
        {
          "output_type": "execute_result",
          "data": {
            "text/plain": [
              "NAZIV_SR             0\n",
              "DATUM_NASTANKA_SR    0\n",
              "STATUS               0\n",
              "WORKLOGID            0\n",
              "OPIS                 0\n",
              "DOLGI_OPIS_X         0\n",
              "dtype: int64"
            ],
            "text/html": [
              "<div>\n",
              "<style scoped>\n",
              "    .dataframe tbody tr th:only-of-type {\n",
              "        vertical-align: middle;\n",
              "    }\n",
              "\n",
              "    .dataframe tbody tr th {\n",
              "        vertical-align: top;\n",
              "    }\n",
              "\n",
              "    .dataframe thead th {\n",
              "        text-align: right;\n",
              "    }\n",
              "</style>\n",
              "<table border=\"1\" class=\"dataframe\">\n",
              "  <thead>\n",
              "    <tr style=\"text-align: right;\">\n",
              "      <th></th>\n",
              "      <th>0</th>\n",
              "    </tr>\n",
              "  </thead>\n",
              "  <tbody>\n",
              "    <tr>\n",
              "      <th>NAZIV_SR</th>\n",
              "      <td>0</td>\n",
              "    </tr>\n",
              "    <tr>\n",
              "      <th>DATUM_NASTANKA_SR</th>\n",
              "      <td>0</td>\n",
              "    </tr>\n",
              "    <tr>\n",
              "      <th>STATUS</th>\n",
              "      <td>0</td>\n",
              "    </tr>\n",
              "    <tr>\n",
              "      <th>WORKLOGID</th>\n",
              "      <td>0</td>\n",
              "    </tr>\n",
              "    <tr>\n",
              "      <th>OPIS</th>\n",
              "      <td>0</td>\n",
              "    </tr>\n",
              "    <tr>\n",
              "      <th>DOLGI_OPIS_X</th>\n",
              "      <td>0</td>\n",
              "    </tr>\n",
              "  </tbody>\n",
              "</table>\n",
              "</div><br><label><b>dtype:</b> int64</label>"
            ]
          },
          "metadata": {},
          "execution_count": 235
        }
      ]
    },
    {
      "cell_type": "code",
      "source": [
        "# import re\n",
        "\n",
        "# def remove_img_src(content):\n",
        "#     return re.sub(r'\\s*src=\"[^\"]*\"', '', content, flags=re.IGNORECASE)\n",
        "\n",
        "# # Example usage\n",
        "# html = 'Uspešno testirano, zato prosim za prenos na produkcijo.Hvala. <img alt=\"\" src=\"data:image/png;base64,iVBOR...\" />'\n",
        "# cleaned_html = remove_img_src(html)\n",
        "\n",
        "# print(cleaned_html)\n"
      ],
      "metadata": {
        "id": "B_n5pti7aCpm"
      },
      "execution_count": 236,
      "outputs": []
    },
    {
      "cell_type": "code",
      "source": [
        "\n",
        "# def remove_img_src(content):\n",
        "#     return re.sub(r'\\s*src=\"[^\"]*\"', '', content, flags=re.IGNORECASE)\n",
        "\n",
        "\n",
        "# df_pociscen['DOLGI_OPIS_X'] = df_pociscen['DOLGI_OPIS_X'].astype(str).apply(remove_img_src)"
      ],
      "metadata": {
        "id": "GjUt8BPTaO52"
      },
      "execution_count": 237,
      "outputs": []
    },
    {
      "cell_type": "code",
      "source": [
        "# df_pociscen.to_csv(\"df_pociscen.csv\", index=True)"
      ],
      "metadata": {
        "id": "Dq-Wbs30qS5-"
      },
      "execution_count": 238,
      "outputs": []
    }
  ]
}